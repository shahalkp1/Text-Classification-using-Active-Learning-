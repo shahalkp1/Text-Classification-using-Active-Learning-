{
 "cells": [
  {
   "cell_type": "code",
   "execution_count": 1,
   "metadata": {},
   "outputs": [
    {
     "data": {
      "text/html": [
       "<div>\n",
       "<style scoped>\n",
       "    .dataframe tbody tr th:only-of-type {\n",
       "        vertical-align: middle;\n",
       "    }\n",
       "\n",
       "    .dataframe tbody tr th {\n",
       "        vertical-align: top;\n",
       "    }\n",
       "\n",
       "    .dataframe thead th {\n",
       "        text-align: right;\n",
       "    }\n",
       "</style>\n",
       "<table border=\"1\" class=\"dataframe\">\n",
       "  <thead>\n",
       "    <tr style=\"text-align: right;\">\n",
       "      <th></th>\n",
       "      <th>id</th>\n",
       "      <th>label</th>\n",
       "      <th>tweet</th>\n",
       "    </tr>\n",
       "  </thead>\n",
       "  <tbody>\n",
       "    <tr>\n",
       "      <th>0</th>\n",
       "      <td>1</td>\n",
       "      <td>0</td>\n",
       "      <td>@user when a father is dysfunctional and is s...</td>\n",
       "    </tr>\n",
       "    <tr>\n",
       "      <th>1</th>\n",
       "      <td>2</td>\n",
       "      <td>0</td>\n",
       "      <td>@user @user thanks for #lyft credit i can't us...</td>\n",
       "    </tr>\n",
       "    <tr>\n",
       "      <th>2</th>\n",
       "      <td>3</td>\n",
       "      <td>0</td>\n",
       "      <td>bihday your majesty</td>\n",
       "    </tr>\n",
       "    <tr>\n",
       "      <th>3</th>\n",
       "      <td>4</td>\n",
       "      <td>0</td>\n",
       "      <td>#model   i love u take with u all the time in ...</td>\n",
       "    </tr>\n",
       "    <tr>\n",
       "      <th>4</th>\n",
       "      <td>5</td>\n",
       "      <td>0</td>\n",
       "      <td>factsguide: society now    #motivation</td>\n",
       "    </tr>\n",
       "  </tbody>\n",
       "</table>\n",
       "</div>"
      ],
      "text/plain": [
       "   id  label                                              tweet\n",
       "0   1      0   @user when a father is dysfunctional and is s...\n",
       "1   2      0  @user @user thanks for #lyft credit i can't us...\n",
       "2   3      0                                bihday your majesty\n",
       "3   4      0  #model   i love u take with u all the time in ...\n",
       "4   5      0             factsguide: society now    #motivation"
      ]
     },
     "execution_count": 1,
     "metadata": {},
     "output_type": "execute_result"
    }
   ],
   "source": [
    "#importing dataset\n",
    "import pandas as pd\n",
    "df= pd.read_csv(r\"C:\\Users\\shaha\\Desktop\\IBS\\train.csv\")\n",
    "df.head()"
   ]
  },
  {
   "cell_type": "code",
   "execution_count": 2,
   "metadata": {},
   "outputs": [
    {
     "name": "stderr",
     "output_type": "stream",
     "text": [
      "<ipython-input-2-d574088bc6ff>:11: FutureWarning: The default value of regex will change from True to False in a future version.\n",
      "  df['new_tweet'] = df['new_tweet'].str.replace(\"[^a-zA-Z#]\", \" \" )\n"
     ]
    },
    {
     "data": {
      "text/html": [
       "<div>\n",
       "<style scoped>\n",
       "    .dataframe tbody tr th:only-of-type {\n",
       "        vertical-align: middle;\n",
       "    }\n",
       "\n",
       "    .dataframe tbody tr th {\n",
       "        vertical-align: top;\n",
       "    }\n",
       "\n",
       "    .dataframe thead th {\n",
       "        text-align: right;\n",
       "    }\n",
       "</style>\n",
       "<table border=\"1\" class=\"dataframe\">\n",
       "  <thead>\n",
       "    <tr style=\"text-align: right;\">\n",
       "      <th></th>\n",
       "      <th>label</th>\n",
       "      <th>new_tweet</th>\n",
       "    </tr>\n",
       "  </thead>\n",
       "  <tbody>\n",
       "    <tr>\n",
       "      <th>0</th>\n",
       "      <td>0</td>\n",
       "      <td>[drag, selfish, run, dysfunct, father, kid]</td>\n",
       "    </tr>\n",
       "    <tr>\n",
       "      <th>1</th>\n",
       "      <td>0</td>\n",
       "      <td>[thank, offer, getthank, use, wheelchair, lyft...</td>\n",
       "    </tr>\n",
       "    <tr>\n",
       "      <th>2</th>\n",
       "      <td>0</td>\n",
       "      <td>[majesti, bihday]</td>\n",
       "    </tr>\n",
       "    <tr>\n",
       "      <th>3</th>\n",
       "      <td>0</td>\n",
       "      <td>[ur, take, model, love, u, time]</td>\n",
       "    </tr>\n",
       "    <tr>\n",
       "      <th>4</th>\n",
       "      <td>0</td>\n",
       "      <td>[factsguid, motiv, societi]</td>\n",
       "    </tr>\n",
       "  </tbody>\n",
       "</table>\n",
       "</div>"
      ],
      "text/plain": [
       "   label                                          new_tweet\n",
       "0      0        [drag, selfish, run, dysfunct, father, kid]\n",
       "1      0  [thank, offer, getthank, use, wheelchair, lyft...\n",
       "2      0                                  [majesti, bihday]\n",
       "3      0                   [ur, take, model, love, u, time]\n",
       "4      0                        [factsguid, motiv, societi]"
      ]
     },
     "execution_count": 2,
     "metadata": {},
     "output_type": "execute_result"
    }
   ],
   "source": [
    "#preprocessing \n",
    "from nltk.stem.snowball import SnowballStemmer\n",
    "stemmer = SnowballStemmer(\"english\")\n",
    "import nltk\n",
    "from nltk.corpus import stopwords\n",
    "stopwords = nltk.corpus.stopwords.words('english')\n",
    "from nltk.tokenize import word_tokenize\n",
    "import string\n",
    "\n",
    "df['new_tweet'] = df.tweet.str.replace('@user', '')\n",
    "df['new_tweet'] = df['new_tweet'].str.replace(\"[^a-zA-Z#]\", \" \" )\n",
    "df['new_tweet'] = df['new_tweet'].str.replace(\"#\", \" \")\n",
    "df['new_tweet'] = df['new_tweet'].apply(lambda x: x.split())\n",
    "df['new_tweet']= df['new_tweet'].apply(lambda x: [stemmer.stem(i) for i in x])\n",
    "def process(text):\n",
    "    # Check characters to see if they are in punctuation\n",
    "    nopunc = set(char for char in list(text) if char not in string.punctuation)\n",
    "    # Join the characters to form the string.\n",
    "    nopunc = \" \".join(nopunc)\n",
    "    # remove any stopwords if present\n",
    "    return [word for word in nopunc.lower().split() if word.lower() not in stopwords]\n",
    "df['new_tweet'] = df['new_tweet'].apply(process)\n",
    "df=df.drop(columns='tweet')\n",
    "df=df.drop(columns='id')\n",
    "df.head()\n"
   ]
  },
  {
   "cell_type": "code",
   "execution_count": 3,
   "metadata": {},
   "outputs": [
    {
     "name": "stdout",
     "output_type": "stream",
     "text": [
      "96.05818864382918\n"
     ]
    }
   ],
   "source": [
    "from sklearn.model_selection import train_test_split\n",
    "from sklearn.feature_extraction.text import CountVectorizer, TfidfTransformer,TfidfVectorizer\n",
    "from sklearn.ensemble import RandomForestClassifier\n",
    "from sklearn.metrics import accuracy_score\n",
    "x_train, x_test, y_train, y_test =train_test_split(df[\"new_tweet\"], df[\"label\"], test_size = 0.2, random_state = 42)\n",
    "vectorizer = TfidfVectorizer(stop_words='english',norm='l2',sublinear_tf=True)\n",
    "x_train_tfidf = vectorizer.fit_transform(x_train.apply(lambda x: ' '.join(x)))\n",
    "x_test_tfidf = vectorizer.transform(x_test.apply(lambda x: ' '.join(x)))\n",
    "model = RandomForestClassifier(n_estimators=200)\n",
    "model.fit(x_train_tfidf,y_train)\n",
    "predictions = model.predict(x_test_tfidf)\n",
    "print(accuracy_score(y_test,predictions)*100)"
   ]
  },
  {
   "cell_type": "markdown",
   "metadata": {},
   "source": [
    "from sklearn.model_selection import train_test_split\n",
    "from sklearn.feature_extraction.text import CountVectorizer, TfidfTransformer,TfidfVectorizer\n",
    "from sklearn.ensemble import RandomForestClassifier\n",
    "from sklearn.metrics import accuracy_score\n",
    "x_train, x_test, y_train, y_test =train_test_split(df[\"new_tweet\"], df[\"label\"], test_size = 0.2, random_state = 42)\n",
    "count_vect = CountVectorizer(stop_words='english')\n",
    "transformer = TfidfTransformer(norm='l2',sublinear_tf=True)\n",
    "x_train_counts = count_vect.fit_transform(x_train.apply(lambda x: ' '.join(x)))\n",
    "x_train_tfidf = transformer.fit_transform(x_train_counts)\n",
    "x_test_counts = count_vect.transform(x_test.apply(lambda x: ' '.join(x)))\n",
    "x_test_tfidf = transformer.transform(x_test_counts)\n",
    "model = RandomForestClassifier(n_estimators=200)\n",
    "model.fit(x_train_tfidf,y_train)\n",
    "predictions = model.predict(x_test_tfidf)\n",
    "print(accuracy_score(y_test,predictions)*100)"
   ]
  },
  {
   "cell_type": "code",
   "execution_count": 4,
   "metadata": {},
   "outputs": [],
   "source": [
    "from sklearn.feature_extraction.text import CountVectorizer, TfidfTransformer, TfidfVectorizer\n",
    "vectorizer = TfidfVectorizer(stop_words='english',norm='l2',sublinear_tf=True)\n",
    "x_train = vectorizer.fit_transform(df['new_tweet'].apply(lambda x: ' '.join(x)))"
   ]
  },
  {
   "cell_type": "markdown",
   "metadata": {},
   "source": [
    "from sklearn.feature_extraction.text import CountVectorizer, TfidfTransformer, TfidfVectorizer\n",
    "count_vect = CountVectorizer(stop_words='english')\n",
    "transformer = TfidfTransformer(norm='l2',sublinear_tf=True)\n",
    "xcounts = count_vect.fit_transform(df['new_tweet'].apply(lambda x: ' '.join(x)))\n",
    "x_train = transformer.fit_transform(xcounts)"
   ]
  },
  {
   "cell_type": "code",
   "execution_count": 12,
   "metadata": {},
   "outputs": [],
   "source": [
    "import numpy as np\n",
    "N = 10    \n",
    "split=np.array_split(df, N)"
   ]
  },
  {
   "cell_type": "code",
   "execution_count": 13,
   "metadata": {},
   "outputs": [],
   "source": [
    "x_tfidf=vectorizer.fit_transform(split[0]['new_tweet'].apply(lambda x:''.join(x)))"
   ]
  },
  {
   "cell_type": "markdown",
   "metadata": {},
   "source": [
    "xcounts = count_vect.transform(split[0]['new_tweet'].apply(lambda x: ' '.join(x)))\n",
    "x_train = transformer.transform(xcounts)"
   ]
  },
  {
   "cell_type": "code",
   "execution_count": 14,
   "metadata": {},
   "outputs": [],
   "source": [
    "y_train=split[0]['label']"
   ]
  },
  {
   "cell_type": "code",
   "execution_count": 15,
   "metadata": {},
   "outputs": [],
   "source": [
    "from modAL.models import ActiveLearner\n",
    "from sklearn.linear_model import LogisticRegression\n",
    "from sklearn.ensemble import RandomForestClassifier\n",
    "from modAL.uncertainty import entropy_sampling, uncertainty_sampling, margin_sampling\n",
    "learner = ActiveLearner(estimator=RandomForestClassifier(),query_strategy=entropy_sampling,X_training=x_tfidf, y_training=y_train.ravel())\n"
   ]
  },
  {
   "cell_type": "code",
   "execution_count": 16,
   "metadata": {},
   "outputs": [
    {
     "name": "stdout",
     "output_type": "stream",
     "text": [
      "[0.9289959336878324]\n",
      "[0.932415519399249]\n",
      "[0.9283479349186483]\n",
      "[0.931476846057572]\n",
      "[0.934918648310388]\n",
      "[0.9249061326658323]\n",
      "[0.925531914893617]\n",
      "[0.9327284105131415]\n",
      "[0.9286608260325406]\n"
     ]
    }
   ],
   "source": [
    "for i in range(1,10):\n",
    "  x_t= vectorizer.transform(split[i]['new_tweet'].apply(lambda x: ' '.join(x)))\n",
    "  accuracy_scores = [learner.score(x_t, split[i]['label'])]\n",
    "  print(accuracy_scores)"
   ]
  },
  {
   "cell_type": "markdown",
   "metadata": {},
   "source": [
    "for i in range(1,10):\n",
    "  x_c = count_vect.transform(split[i]['new_tweet'].apply(lambda x: ' '.join(x)))\n",
    "  x_t= transformer.transform(x_c)\n",
    "  accuracy_scores = [learner.score(x_t, split[i]['label'])]\n",
    "  print(accuracy_scores)"
   ]
  },
  {
   "cell_type": "code",
   "execution_count": 17,
   "metadata": {},
   "outputs": [
    {
     "data": {
      "text/plain": [
       "label                             0\n",
       "new_tweet    [go, gettingther, day]\n",
       "Name: 2915, dtype: object"
      ]
     },
     "execution_count": 17,
     "metadata": {},
     "output_type": "execute_result"
    }
   ],
   "source": [
    "df.loc[2915]"
   ]
  },
  {
   "cell_type": "code",
   "execution_count": 18,
   "metadata": {},
   "outputs": [
    {
     "name": "stdout",
     "output_type": "stream",
     "text": [
      "[0]\n",
      "   label                                          new_tweet\n",
      "0      0  [gt, surpris, ka, make, read, betray, scifi, k...\n",
      "[0]\n",
      "   label                                       new_tweet\n",
      "0      0  [react, life, happen, said, motivati, percent]\n",
      "[0]\n",
      "   label                                          new_tweet\n",
      "0      0  [thank, got, night, result, text, twitter, boy...\n",
      "[0]\n",
      "   label                        new_tweet\n",
      "0      0  [great, morn, day, good, night]\n",
      "[0]\n",
      "   label             new_tweet\n",
      "0      0  [thank, rain, posit]\n",
      "[0]\n",
      "   label                                          new_tweet\n",
      "0      0  [first, watch, showtim, episod, know, time, de...\n",
      "[0]\n",
      "   label                                new_tweet\n",
      "0      0  [task, full, day, prepar, activ, first]\n",
      "[0]\n",
      "   label                                          new_tweet\n",
      "0      1  [philosoph, meet, nationalist, white, aleksand...\n",
      "[0]\n",
      "   label                                        new_tweet\n",
      "0      0  [stuff, cloth, readi, day, clear, new, holiday]\n"
     ]
    }
   ],
   "source": [
    "for i in range(1,10):\n",
    "    x_tfidf = vectorizer.transform(split[i]['new_tweet'].apply(lambda x: ' '.join(x)))\n",
    "    query_idx, query_sample = learner.query(x_tfidf)\n",
    "    split[i]=split[i].reset_index()\n",
    "    split[i]=split[i].copy()\n",
    "    split[i]=split[i].drop(['index'],axis=1)\n",
    "    print(query_idx)\n",
    "    print(split[i].loc[query_idx])\n",
    "    #y=int(input(\"Enter the label\"))\n",
    "    learner.teach(x_tfidf[query_idx],[0])"
   ]
  },
  {
   "cell_type": "markdown",
   "metadata": {},
   "source": [
    "for i in range(1,10):\n",
    "    x_counts = count_vect.transform(split[i]['new_tweet'].apply(lambda x: ' '.join(x)))\n",
    "    x_tfidf = transformer.transform(x_counts)\n",
    "    query_idx, query_sample = learner.query(x_tfidf)\n",
    "    split[i]=split[i].reset_index()\n",
    "    split[i]=split[i].copy()\n",
    "    split[i]=split[i].drop(['index'],axis=1)\n",
    "    print(split[i].loc[query_idx])\n",
    "    y=int(input(\"Enter the label\"))\n",
    "    learner.teach(x_tfidf[query_idx],[y])"
   ]
  },
  {
   "cell_type": "code",
   "execution_count": 20,
   "metadata": {},
   "outputs": [
    {
     "name": "stdout",
     "output_type": "stream",
     "text": [
      "92.86719849835758\n"
     ]
    }
   ],
   "source": [
    "x_test_tfidf = vectorizer.transform(x_test.apply(lambda x: ' '.join(x)))\n",
    "predictions = learner.predict(x_test_tfidf)\n",
    "print(accuracy_score(y_test,predictions)*100)"
   ]
  },
  {
   "cell_type": "code",
   "execution_count": null,
   "metadata": {},
   "outputs": [],
   "source": []
  }
 ],
 "metadata": {
  "interpreter": {
   "hash": "b3ba2566441a7c06988d0923437866b63cedc61552a5af99d1f4fb67d367b25f"
  },
  "kernelspec": {
   "display_name": "Python 3.8.8 ('base')",
   "language": "python",
   "name": "python3"
  },
  "language_info": {
   "codemirror_mode": {
    "name": "ipython",
    "version": 3
   },
   "file_extension": ".py",
   "mimetype": "text/x-python",
   "name": "python",
   "nbconvert_exporter": "python",
   "pygments_lexer": "ipython3",
   "version": "3.8.8"
  },
  "orig_nbformat": 4
 },
 "nbformat": 4,
 "nbformat_minor": 2
}
