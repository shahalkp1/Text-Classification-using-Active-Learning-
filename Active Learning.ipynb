{
 "cells": [
  {
   "cell_type": "code",
   "execution_count": 1,
   "metadata": {},
   "outputs": [
    {
     "data": {
      "text/html": [
       "<div>\n",
       "<style scoped>\n",
       "    .dataframe tbody tr th:only-of-type {\n",
       "        vertical-align: middle;\n",
       "    }\n",
       "\n",
       "    .dataframe tbody tr th {\n",
       "        vertical-align: top;\n",
       "    }\n",
       "\n",
       "    .dataframe thead th {\n",
       "        text-align: right;\n",
       "    }\n",
       "</style>\n",
       "<table border=\"1\" class=\"dataframe\">\n",
       "  <thead>\n",
       "    <tr style=\"text-align: right;\">\n",
       "      <th></th>\n",
       "      <th>id</th>\n",
       "      <th>label</th>\n",
       "      <th>tweet</th>\n",
       "    </tr>\n",
       "  </thead>\n",
       "  <tbody>\n",
       "    <tr>\n",
       "      <th>0</th>\n",
       "      <td>1</td>\n",
       "      <td>0</td>\n",
       "      <td>@user when a father is dysfunctional and is s...</td>\n",
       "    </tr>\n",
       "    <tr>\n",
       "      <th>1</th>\n",
       "      <td>2</td>\n",
       "      <td>0</td>\n",
       "      <td>@user @user thanks for #lyft credit i can't us...</td>\n",
       "    </tr>\n",
       "    <tr>\n",
       "      <th>2</th>\n",
       "      <td>3</td>\n",
       "      <td>0</td>\n",
       "      <td>bihday your majesty</td>\n",
       "    </tr>\n",
       "    <tr>\n",
       "      <th>3</th>\n",
       "      <td>4</td>\n",
       "      <td>0</td>\n",
       "      <td>#model   i love u take with u all the time in ...</td>\n",
       "    </tr>\n",
       "    <tr>\n",
       "      <th>4</th>\n",
       "      <td>5</td>\n",
       "      <td>0</td>\n",
       "      <td>factsguide: society now    #motivation</td>\n",
       "    </tr>\n",
       "  </tbody>\n",
       "</table>\n",
       "</div>"
      ],
      "text/plain": [
       "   id  label                                              tweet\n",
       "0   1      0   @user when a father is dysfunctional and is s...\n",
       "1   2      0  @user @user thanks for #lyft credit i can't us...\n",
       "2   3      0                                bihday your majesty\n",
       "3   4      0  #model   i love u take with u all the time in ...\n",
       "4   5      0             factsguide: society now    #motivation"
      ]
     },
     "execution_count": 1,
     "metadata": {},
     "output_type": "execute_result"
    }
   ],
   "source": [
    "import pandas as pd\n",
    "df = pd.read_csv(r\"C:\\Users\\shaha\\Desktop\\IBS\\train.csv\")\n",
    "df.head()"
   ]
  },
  {
   "cell_type": "code",
   "execution_count": 2,
   "metadata": {},
   "outputs": [
    {
     "name": "stderr",
     "output_type": "stream",
     "text": [
      "<ipython-input-2-616026ddc9b1>:9: FutureWarning: The default value of regex will change from True to False in a future version.\n",
      "  df['new_tweet'] = df['new_tweet'].str.replace(\"[^a-zA-Z#]\", \" \" )\n"
     ]
    },
    {
     "data": {
      "text/html": [
       "<div>\n",
       "<style scoped>\n",
       "    .dataframe tbody tr th:only-of-type {\n",
       "        vertical-align: middle;\n",
       "    }\n",
       "\n",
       "    .dataframe tbody tr th {\n",
       "        vertical-align: top;\n",
       "    }\n",
       "\n",
       "    .dataframe thead th {\n",
       "        text-align: right;\n",
       "    }\n",
       "</style>\n",
       "<table border=\"1\" class=\"dataframe\">\n",
       "  <thead>\n",
       "    <tr style=\"text-align: right;\">\n",
       "      <th></th>\n",
       "      <th>id</th>\n",
       "      <th>label</th>\n",
       "      <th>tweet</th>\n",
       "      <th>new_tweet</th>\n",
       "    </tr>\n",
       "  </thead>\n",
       "  <tbody>\n",
       "    <tr>\n",
       "      <th>0</th>\n",
       "      <td>1</td>\n",
       "      <td>0</td>\n",
       "      <td>@user when a father is dysfunctional and is s...</td>\n",
       "      <td>[selfish, father, drag, run, kid, dysfunct]</td>\n",
       "    </tr>\n",
       "    <tr>\n",
       "      <th>1</th>\n",
       "      <td>2</td>\n",
       "      <td>0</td>\n",
       "      <td>@user @user thanks for #lyft credit i can't us...</td>\n",
       "      <td>[thank, credit, caus, disapoint, lyft, use, of...</td>\n",
       "    </tr>\n",
       "    <tr>\n",
       "      <th>2</th>\n",
       "      <td>3</td>\n",
       "      <td>0</td>\n",
       "      <td>bihday your majesty</td>\n",
       "      <td>[bihday, majesti]</td>\n",
       "    </tr>\n",
       "    <tr>\n",
       "      <th>3</th>\n",
       "      <td>4</td>\n",
       "      <td>0</td>\n",
       "      <td>#model   i love u take with u all the time in ...</td>\n",
       "      <td>[time, love, model, ur, u, take]</td>\n",
       "    </tr>\n",
       "    <tr>\n",
       "      <th>4</th>\n",
       "      <td>5</td>\n",
       "      <td>0</td>\n",
       "      <td>factsguide: society now    #motivation</td>\n",
       "      <td>[factsguid, societi, motiv]</td>\n",
       "    </tr>\n",
       "  </tbody>\n",
       "</table>\n",
       "</div>"
      ],
      "text/plain": [
       "   id  label                                              tweet  \\\n",
       "0   1      0   @user when a father is dysfunctional and is s...   \n",
       "1   2      0  @user @user thanks for #lyft credit i can't us...   \n",
       "2   3      0                                bihday your majesty   \n",
       "3   4      0  #model   i love u take with u all the time in ...   \n",
       "4   5      0             factsguide: society now    #motivation   \n",
       "\n",
       "                                           new_tweet  \n",
       "0        [selfish, father, drag, run, kid, dysfunct]  \n",
       "1  [thank, credit, caus, disapoint, lyft, use, of...  \n",
       "2                                  [bihday, majesti]  \n",
       "3                   [time, love, model, ur, u, take]  \n",
       "4                        [factsguid, societi, motiv]  "
      ]
     },
     "execution_count": 2,
     "metadata": {},
     "output_type": "execute_result"
    }
   ],
   "source": [
    "from nltk.stem.snowball import SnowballStemmer\n",
    "import nltk\n",
    "from nltk.corpus import stopwords\n",
    "from nltk.tokenize import word_tokenize\n",
    "stopwords = nltk.corpus.stopwords.words('english')\n",
    "import string\n",
    "stemmer = SnowballStemmer(\"english\")\n",
    "df['new_tweet'] = df.tweet.str.replace('@user', '')\n",
    "df['new_tweet'] = df['new_tweet'].str.replace(\"[^a-zA-Z#]\", \" \" )\n",
    "df['new_tweet'] = df['new_tweet'].str.replace(\"#\", \"\")\n",
    "df['new_tweet'] = df['new_tweet'].apply(lambda x: x.split())\n",
    "df['new_tweet']= df['new_tweet'].apply(lambda x: [stemmer.stem(i) for i in x])\n",
    "def process(text):\n",
    "    # Check characters to see if they are in punctuation\n",
    "    nopunc = set(char for char in list(text) if char not in string.punctuation)\n",
    "    # Join the characters to form the string.\n",
    "    nopunc = \" \".join(nopunc)\n",
    "    # remove any stopwords if present\n",
    "    return [word for word in nopunc.lower().split() if word.lower() not in stopwords]\n",
    "df['new_tweet'] = df['new_tweet'].apply(process)\n",
    "df.head()\n"
   ]
  },
  {
   "cell_type": "code",
   "execution_count": 3,
   "metadata": {},
   "outputs": [],
   "source": [
    "df=df.drop(columns='tweet')"
   ]
  },
  {
   "cell_type": "code",
   "execution_count": 4,
   "metadata": {},
   "outputs": [],
   "source": [
    "df=df.drop(columns='id')\n"
   ]
  },
  {
   "cell_type": "code",
   "execution_count": 5,
   "metadata": {},
   "outputs": [],
   "source": [
    "import numpy as np\n",
    "N = 10    \n",
    "split=np.array_split(df, N)"
   ]
  },
  {
   "cell_type": "code",
   "execution_count": 6,
   "metadata": {},
   "outputs": [
    {
     "name": "stdout",
     "output_type": "stream",
     "text": [
      "       label                                          new_tweet\n",
      "15982      0                               [thank, rain, posit]\n",
      "15983      0  [anxieti, power, free, podcast, nowplay, stres...\n",
      "15984      0         [whit, pictur, photographi, princess, tbt]\n",
      "15985      1  [accept, ref, hispanicvot, know, blackvot, pro...\n",
      "15986      0     [got, cawheel, damien, saw, dandi, today, hug]\n",
      "...      ...                                                ...\n",
      "19173      0  [view, bieszczadymountain, frogg, everywher, d...\n",
      "19174      0  [ed, rose, ty, love, ved, chronicpain, much, f...\n",
      "19175      0                           [home, happi, big, hous]\n",
      "19176      0  [nuke, hall, soon, amp, limit, world, everi, r...\n",
      "19177      0  [onli, instalik, day, smile, instafollow, good...\n",
      "\n",
      "[3196 rows x 2 columns]\n"
     ]
    }
   ],
   "source": [
    "print(split[5])"
   ]
  },
  {
   "cell_type": "code",
   "execution_count": 7,
   "metadata": {},
   "outputs": [
    {
     "data": {
      "text/plain": [
       "3197    [make, scifi, read, surpris, ka, betray, lt, g...\n",
       "3198    [least, final, back, much, mystiqu, warriorsfa...\n",
       "3199    [make, imperfect, learn, forgiv, quot, inspir,...\n",
       "3200    [direct, bull, whatev, want, lightroom, domin,...\n",
       "3201    [truli, summer, poster, day, stas, grahamepark...\n",
       "                              ...                        \n",
       "6389               [eat, waiter, want, aswel, plate, ask]\n",
       "6390    [view, moment, mamashelt, turn, life, smile, n...\n",
       "6391    [doubl, cute, tag, petsagram, hound, best, dog...\n",
       "6392    [antiegalitarian, climatechang, fascism, narci...\n",
       "6393    [weekend, time, forget, dear, nice, spoy, take...\n",
       "Name: new_tweet, Length: 3197, dtype: object"
      ]
     },
     "execution_count": 7,
     "metadata": {},
     "output_type": "execute_result"
    }
   ],
   "source": [
    "split[1]['new_tweet']"
   ]
  },
  {
   "cell_type": "code",
   "execution_count": 8,
   "metadata": {},
   "outputs": [],
   "source": [
    "from sklearn.feature_extraction.text import CountVectorizer, TfidfTransformer\n",
    "def tfidf(x):\n",
    "    count_vect = CountVectorizer(stop_words='english')\n",
    "    transformer = TfidfTransformer(norm='l2',sublinear_tf=True)\n",
    "    x_counts = count_vect.fit_transform(x.apply(lambda x: ' '.join(x)))\n",
    "    x_tfidf = transformer.fit_transform(x_counts)\n",
    "    return x_tfidf"
   ]
  },
  {
   "cell_type": "code",
   "execution_count": 9,
   "metadata": {},
   "outputs": [],
   "source": [
    "\n",
    "from modAL.batch import uncertainty_batch_sampling\n",
    "from functools import partial\n",
    "from modAL.models import ActiveLearner\n",
    "from sklearn.linear_model import LogisticRegression\n",
    "from modAL.uncertainty import entropy_sampling\n",
    "BATCH_SIZE = 100\n",
    "preset_batch = partial(uncertainty_batch_sampling, n_instances=BATCH_SIZE)"
   ]
  },
  {
   "cell_type": "code",
   "execution_count": 10,
   "metadata": {},
   "outputs": [],
   "source": [
    "learner = ActiveLearner(estimator=LogisticRegression(),query_strategy=entropy_sampling,X_training=tfidf(split[1]['new_tweet']), y_training=split[1]['label'])"
   ]
  },
  {
   "cell_type": "code",
   "execution_count": 11,
   "metadata": {},
   "outputs": [
    {
     "data": {
      "text/plain": [
       "<3196x6972 sparse matrix of type '<class 'numpy.float64'>'\n",
       "\twith 21598 stored elements in Compressed Sparse Row format>"
      ]
     },
     "execution_count": 11,
     "metadata": {},
     "output_type": "execute_result"
    }
   ],
   "source": [
    "tfidf(split[8]['new_tweet'])"
   ]
  },
  {
   "cell_type": "code",
   "execution_count": 12,
   "metadata": {},
   "outputs": [
    {
     "name": "stdout",
     "output_type": "stream",
     "text": [
      "[0.9355444305381727]\n",
      "[0.9361702127659575]\n",
      "[0.9342928660826032]\n",
      "[0.9399249061326659]\n",
      "[0.925531914893617]\n",
      "[0.931476846057572]\n",
      "[0.9374217772215269]\n",
      "[0.9352315394242804]\n"
     ]
    }
   ],
   "source": [
    "for i in range(2,10):\n",
    "  learner.fit(tfidf(split[i]['new_tweet']),split[i]['label'])\n",
    "  predictions = learner.predict(tfidf(split[i]['new_tweet']))\n",
    "  accuracy_scores = [learner.score(tfidf(split[i]['new_tweet']), split[i]['label'])]\n",
    "  print(accuracy_scores)"
   ]
  },
  {
   "cell_type": "code",
   "execution_count": null,
   "metadata": {},
   "outputs": [],
   "source": []
  }
 ],
 "metadata": {
  "interpreter": {
   "hash": "b3ba2566441a7c06988d0923437866b63cedc61552a5af99d1f4fb67d367b25f"
  },
  "kernelspec": {
   "display_name": "Python 3.8.8 ('base')",
   "language": "python",
   "name": "python3"
  },
  "language_info": {
   "codemirror_mode": {
    "name": "ipython",
    "version": 3
   },
   "file_extension": ".py",
   "mimetype": "text/x-python",
   "name": "python",
   "nbconvert_exporter": "python",
   "pygments_lexer": "ipython3",
   "version": "3.8.8"
  },
  "orig_nbformat": 4
 },
 "nbformat": 4,
 "nbformat_minor": 2
}
