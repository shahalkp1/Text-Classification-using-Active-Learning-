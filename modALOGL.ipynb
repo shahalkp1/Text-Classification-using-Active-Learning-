{
 "cells": [
  {
   "cell_type": "code",
   "execution_count": 1,
   "metadata": {},
   "outputs": [
    {
     "data": {
      "text/plain": [
       "31962"
      ]
     },
     "execution_count": 1,
     "metadata": {},
     "output_type": "execute_result"
    }
   ],
   "source": [
    "#importing dataset\n",
    "import pandas as pd\n",
    "df= pd.read_csv(r\"C:\\Users\\shaha\\Desktop\\IBS\\train.csv\")\n",
    "len(df)"
   ]
  },
  {
   "cell_type": "code",
   "execution_count": 2,
   "metadata": {},
   "outputs": [
    {
     "name": "stderr",
     "output_type": "stream",
     "text": [
      "<ipython-input-2-d574088bc6ff>:11: FutureWarning: The default value of regex will change from True to False in a future version.\n",
      "  df['new_tweet'] = df['new_tweet'].str.replace(\"[^a-zA-Z#]\", \" \" )\n"
     ]
    },
    {
     "data": {
      "text/html": [
       "<div>\n",
       "<style scoped>\n",
       "    .dataframe tbody tr th:only-of-type {\n",
       "        vertical-align: middle;\n",
       "    }\n",
       "\n",
       "    .dataframe tbody tr th {\n",
       "        vertical-align: top;\n",
       "    }\n",
       "\n",
       "    .dataframe thead th {\n",
       "        text-align: right;\n",
       "    }\n",
       "</style>\n",
       "<table border=\"1\" class=\"dataframe\">\n",
       "  <thead>\n",
       "    <tr style=\"text-align: right;\">\n",
       "      <th></th>\n",
       "      <th>label</th>\n",
       "      <th>new_tweet</th>\n",
       "    </tr>\n",
       "  </thead>\n",
       "  <tbody>\n",
       "    <tr>\n",
       "      <th>0</th>\n",
       "      <td>0</td>\n",
       "      <td>[selfish, drag, dysfunct, run, kid, father]</td>\n",
       "    </tr>\n",
       "    <tr>\n",
       "      <th>1</th>\n",
       "      <td>0</td>\n",
       "      <td>[lyft, van, getthank, use, disapoint, credit, ...</td>\n",
       "    </tr>\n",
       "    <tr>\n",
       "      <th>2</th>\n",
       "      <td>0</td>\n",
       "      <td>[bihday, majesti]</td>\n",
       "    </tr>\n",
       "    <tr>\n",
       "      <th>3</th>\n",
       "      <td>0</td>\n",
       "      <td>[time, ur, model, u, take, love]</td>\n",
       "    </tr>\n",
       "    <tr>\n",
       "      <th>4</th>\n",
       "      <td>0</td>\n",
       "      <td>[motiv, factsguid, societi]</td>\n",
       "    </tr>\n",
       "  </tbody>\n",
       "</table>\n",
       "</div>"
      ],
      "text/plain": [
       "   label                                          new_tweet\n",
       "0      0        [selfish, drag, dysfunct, run, kid, father]\n",
       "1      0  [lyft, van, getthank, use, disapoint, credit, ...\n",
       "2      0                                  [bihday, majesti]\n",
       "3      0                   [time, ur, model, u, take, love]\n",
       "4      0                        [motiv, factsguid, societi]"
      ]
     },
     "execution_count": 2,
     "metadata": {},
     "output_type": "execute_result"
    }
   ],
   "source": [
    "#preprocessing \n",
    "from nltk.stem.snowball import SnowballStemmer\n",
    "stemmer = SnowballStemmer(\"english\")\n",
    "import nltk\n",
    "from nltk.corpus import stopwords\n",
    "stopwords = nltk.corpus.stopwords.words('english')\n",
    "from nltk.tokenize import word_tokenize\n",
    "import string\n",
    "\n",
    "df['new_tweet'] = df.tweet.str.replace('@user', '')\n",
    "df['new_tweet'] = df['new_tweet'].str.replace(\"[^a-zA-Z#]\", \" \" )\n",
    "df['new_tweet'] = df['new_tweet'].str.replace(\"#\", \" \")\n",
    "df['new_tweet'] = df['new_tweet'].apply(lambda x: x.split())\n",
    "df['new_tweet']= df['new_tweet'].apply(lambda x: [stemmer.stem(i) for i in x])\n",
    "def process(text):\n",
    "    # Check characters to see if they are in punctuation\n",
    "    nopunc = set(char for char in list(text) if char not in string.punctuation)\n",
    "    # Join the characters to form the string.\n",
    "    nopunc = \" \".join(nopunc)\n",
    "    # remove any stopwords if present\n",
    "    return [word for word in nopunc.lower().split() if word.lower() not in stopwords]\n",
    "df['new_tweet'] = df['new_tweet'].apply(process)\n",
    "df=df.drop(columns='tweet')\n",
    "df=df.drop(columns='id')\n",
    "df.head()"
   ]
  },
  {
   "cell_type": "code",
   "execution_count": 3,
   "metadata": {},
   "outputs": [],
   "source": [
    "from sklearn.model_selection import train_test_split\n",
    "from sklearn.feature_extraction.text import CountVectorizer, TfidfTransformer,TfidfVectorizer\n",
    "from sklearn.ensemble import RandomForestClassifier\n",
    "from sklearn.metrics import accuracy_score\n",
    "x_train, x_test, y_train, y_test =train_test_split(df[\"new_tweet\"], df[\"label\"], test_size = 0.2, random_state = 42)"
   ]
  },
  {
   "cell_type": "code",
   "execution_count": 4,
   "metadata": {},
   "outputs": [],
   "source": [
    "import numpy as np\n",
    "N = 10    \n",
    "split=np.array_split(x_train, N)"
   ]
  },
  {
   "cell_type": "code",
   "execution_count": 5,
   "metadata": {},
   "outputs": [],
   "source": [
    "import numpy as np\n",
    "N = 10    \n",
    "label=np.array_split(y_train, N)"
   ]
  },
  {
   "cell_type": "code",
   "execution_count": 6,
   "metadata": {},
   "outputs": [
    {
     "name": "stdout",
     "output_type": "stream",
     "text": [
      "Number of Training samples :  2557\n",
      "Number of Testing samples :  6393\n",
      "94.32191459408729\n"
     ]
    }
   ],
   "source": [
    "from modAL.models import ActiveLearner\n",
    "from sklearn.ensemble import RandomForestClassifier\n",
    "from modAL.uncertainty import entropy_sampling, uncertainty_sampling, margin_sampling\n",
    "count_vect = CountVectorizer(stop_words='english')\n",
    "transformer = TfidfTransformer(norm='l2',sublinear_tf=True)\n",
    "x_train_counts = count_vect.fit_transform(split[0].apply(lambda x: ' '.join(x)))\n",
    "x_train_tfidf = transformer.fit_transform(x_train_counts)\n",
    "print(\"Number of Training samples : \",len(split[0]))\n",
    "learner = ActiveLearner(estimator=RandomForestClassifier(),query_strategy=entropy_sampling,X_training=x_train_tfidf, y_training=label[0].ravel())\n",
    "print(\"Number of Testing samples : \",len(x_test))\n",
    "x_test_counts = count_vect.transform(x_test.apply(lambda x: ' '.join(x)))\n",
    "x_test_tfidf = transformer.transform(x_test_counts)\n",
    "predictions = learner.predict(x_test_tfidf)\n",
    "print(accuracy_score(y_test,predictions)*100)\n"
   ]
  },
  {
   "cell_type": "code",
   "execution_count": 7,
   "metadata": {},
   "outputs": [
    {
     "name": "stdout",
     "output_type": "stream",
     "text": [
      "94.32191459408729\n"
     ]
    }
   ],
   "source": [
    "x_test_counts = count_vect.transform(x_test.apply(lambda x: ' '.join(x)))\n",
    "x_test_tfidf = transformer.transform(x_test_counts)\n",
    "predictions = learner.predict(x_test_tfidf)\n",
    "print(accuracy_score(y_test,predictions)*100)"
   ]
  },
  {
   "cell_type": "code",
   "execution_count": 8,
   "metadata": {},
   "outputs": [
    {
     "name": "stdout",
     "output_type": "stream",
     "text": [
      "95.66713592992335\n"
     ]
    }
   ],
   "source": [
    "#Queriying Using ModAL\n",
    "for i in range(1,10):\n",
    "    x_counts = count_vect.transform(split[i].apply(lambda x: ' '.join(x)))\n",
    "    x_tfidf = transformer.transform(x_counts)\n",
    "    #for j in range(100):\n",
    "    query_idx, query_sample = learner.query(x_tfidf, n_instances=200)\n",
    "    split[i]=split[i].reset_index()\n",
    "    split[i]=split[i].copy()\n",
    "    split[i]=split[i].drop(['index'],axis=1)\n",
    "    #print(split[i].loc[query_idx])\n",
    "    #y=int(input(\"Enter the label\"))\n",
    "    #y=label[i].iloc[query_idx]\n",
    "    #y=y.item()\n",
    "    y=[]\n",
    "    #Teaching \n",
    "    for k in query_idx:\n",
    "      j=label[i].iloc[k]\n",
    "      lb=j.item()\n",
    "      y.append(lb)\n",
    "    #Teaching using ModAL\n",
    "    learner.teach(x_tfidf[query_idx],y)      \n",
    "x_test_counts = count_vect.transform(x_test.apply(lambda x: ' '.join(x)))\n",
    "x_test_tfidf = transformer.transform(x_test_counts)\n",
    "predictions = learner.predict(x_test_tfidf)\n",
    "print(accuracy_score(y_test,predictions)*100)"
   ]
  },
  {
   "cell_type": "code",
   "execution_count": null,
   "metadata": {},
   "outputs": [],
   "source": []
  }
 ],
 "metadata": {
  "interpreter": {
   "hash": "b3ba2566441a7c06988d0923437866b63cedc61552a5af99d1f4fb67d367b25f"
  },
  "kernelspec": {
   "display_name": "Python 3.8.8 ('base')",
   "language": "python",
   "name": "python3"
  },
  "language_info": {
   "codemirror_mode": {
    "name": "ipython",
    "version": 3
   },
   "file_extension": ".py",
   "mimetype": "text/x-python",
   "name": "python",
   "nbconvert_exporter": "python",
   "pygments_lexer": "ipython3",
   "version": "3.8.8"
  },
  "orig_nbformat": 4
 },
 "nbformat": 4,
 "nbformat_minor": 2
}
