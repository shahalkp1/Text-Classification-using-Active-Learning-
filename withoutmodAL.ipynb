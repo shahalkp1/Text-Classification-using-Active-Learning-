{
 "cells": [
  {
   "cell_type": "code",
   "execution_count": 1,
   "metadata": {},
   "outputs": [
    {
     "data": {
      "text/html": [
       "<div>\n",
       "<style scoped>\n",
       "    .dataframe tbody tr th:only-of-type {\n",
       "        vertical-align: middle;\n",
       "    }\n",
       "\n",
       "    .dataframe tbody tr th {\n",
       "        vertical-align: top;\n",
       "    }\n",
       "\n",
       "    .dataframe thead th {\n",
       "        text-align: right;\n",
       "    }\n",
       "</style>\n",
       "<table border=\"1\" class=\"dataframe\">\n",
       "  <thead>\n",
       "    <tr style=\"text-align: right;\">\n",
       "      <th></th>\n",
       "      <th>id</th>\n",
       "      <th>label</th>\n",
       "      <th>tweet</th>\n",
       "    </tr>\n",
       "  </thead>\n",
       "  <tbody>\n",
       "    <tr>\n",
       "      <th>0</th>\n",
       "      <td>1</td>\n",
       "      <td>0</td>\n",
       "      <td>@user when a father is dysfunctional and is s...</td>\n",
       "    </tr>\n",
       "    <tr>\n",
       "      <th>1</th>\n",
       "      <td>2</td>\n",
       "      <td>0</td>\n",
       "      <td>@user @user thanks for #lyft credit i can't us...</td>\n",
       "    </tr>\n",
       "    <tr>\n",
       "      <th>2</th>\n",
       "      <td>3</td>\n",
       "      <td>0</td>\n",
       "      <td>bihday your majesty</td>\n",
       "    </tr>\n",
       "    <tr>\n",
       "      <th>3</th>\n",
       "      <td>4</td>\n",
       "      <td>0</td>\n",
       "      <td>#model   i love u take with u all the time in ...</td>\n",
       "    </tr>\n",
       "    <tr>\n",
       "      <th>4</th>\n",
       "      <td>5</td>\n",
       "      <td>0</td>\n",
       "      <td>factsguide: society now    #motivation</td>\n",
       "    </tr>\n",
       "  </tbody>\n",
       "</table>\n",
       "</div>"
      ],
      "text/plain": [
       "   id  label                                              tweet\n",
       "0   1      0   @user when a father is dysfunctional and is s...\n",
       "1   2      0  @user @user thanks for #lyft credit i can't us...\n",
       "2   3      0                                bihday your majesty\n",
       "3   4      0  #model   i love u take with u all the time in ...\n",
       "4   5      0             factsguide: society now    #motivation"
      ]
     },
     "execution_count": 1,
     "metadata": {},
     "output_type": "execute_result"
    }
   ],
   "source": [
    "#importing dataset\n",
    "import pandas as pd\n",
    "df= pd.read_csv(r\"C:\\Users\\shaha\\Desktop\\IBS\\train.csv\")\n",
    "df.head()"
   ]
  },
  {
   "cell_type": "code",
   "execution_count": 2,
   "metadata": {},
   "outputs": [
    {
     "name": "stderr",
     "output_type": "stream",
     "text": [
      "<ipython-input-2-d574088bc6ff>:11: FutureWarning: The default value of regex will change from True to False in a future version.\n",
      "  df['new_tweet'] = df['new_tweet'].str.replace(\"[^a-zA-Z#]\", \" \" )\n"
     ]
    },
    {
     "data": {
      "text/html": [
       "<div>\n",
       "<style scoped>\n",
       "    .dataframe tbody tr th:only-of-type {\n",
       "        vertical-align: middle;\n",
       "    }\n",
       "\n",
       "    .dataframe tbody tr th {\n",
       "        vertical-align: top;\n",
       "    }\n",
       "\n",
       "    .dataframe thead th {\n",
       "        text-align: right;\n",
       "    }\n",
       "</style>\n",
       "<table border=\"1\" class=\"dataframe\">\n",
       "  <thead>\n",
       "    <tr style=\"text-align: right;\">\n",
       "      <th></th>\n",
       "      <th>label</th>\n",
       "      <th>new_tweet</th>\n",
       "    </tr>\n",
       "  </thead>\n",
       "  <tbody>\n",
       "    <tr>\n",
       "      <th>0</th>\n",
       "      <td>0</td>\n",
       "      <td>[run, dysfunct, father, kid, drag, selfish]</td>\n",
       "    </tr>\n",
       "    <tr>\n",
       "      <th>1</th>\n",
       "      <td>0</td>\n",
       "      <td>[credit, van, disapoint, pdx, use, wheelchair,...</td>\n",
       "    </tr>\n",
       "    <tr>\n",
       "      <th>2</th>\n",
       "      <td>0</td>\n",
       "      <td>[bihday, majesti]</td>\n",
       "    </tr>\n",
       "    <tr>\n",
       "      <th>3</th>\n",
       "      <td>0</td>\n",
       "      <td>[u, time, love, take, model, ur]</td>\n",
       "    </tr>\n",
       "    <tr>\n",
       "      <th>4</th>\n",
       "      <td>0</td>\n",
       "      <td>[factsguid, societi, motiv]</td>\n",
       "    </tr>\n",
       "  </tbody>\n",
       "</table>\n",
       "</div>"
      ],
      "text/plain": [
       "   label                                          new_tweet\n",
       "0      0        [run, dysfunct, father, kid, drag, selfish]\n",
       "1      0  [credit, van, disapoint, pdx, use, wheelchair,...\n",
       "2      0                                  [bihday, majesti]\n",
       "3      0                   [u, time, love, take, model, ur]\n",
       "4      0                        [factsguid, societi, motiv]"
      ]
     },
     "execution_count": 2,
     "metadata": {},
     "output_type": "execute_result"
    }
   ],
   "source": [
    "#preprocessing \n",
    "from nltk.stem.snowball import SnowballStemmer\n",
    "stemmer = SnowballStemmer(\"english\")\n",
    "import nltk\n",
    "from nltk.corpus import stopwords\n",
    "stopwords = nltk.corpus.stopwords.words('english')\n",
    "from nltk.tokenize import word_tokenize\n",
    "import string\n",
    "\n",
    "df['new_tweet'] = df.tweet.str.replace('@user', '')\n",
    "df['new_tweet'] = df['new_tweet'].str.replace(\"[^a-zA-Z#]\", \" \" )\n",
    "df['new_tweet'] = df['new_tweet'].str.replace(\"#\", \" \")\n",
    "df['new_tweet'] = df['new_tweet'].apply(lambda x: x.split())\n",
    "df['new_tweet']= df['new_tweet'].apply(lambda x: [stemmer.stem(i) for i in x])\n",
    "def process(text):\n",
    "    # Check characters to see if they are in punctuation\n",
    "    nopunc = set(char for char in list(text) if char not in string.punctuation)\n",
    "    # Join the characters to form the string.\n",
    "    nopunc = \" \".join(nopunc)\n",
    "    # remove any stopwords if present\n",
    "    return [word for word in nopunc.lower().split() if word.lower() not in stopwords]\n",
    "df['new_tweet'] = df['new_tweet'].apply(process)\n",
    "df=df.drop(columns='tweet')\n",
    "df=df.drop(columns='id')\n",
    "df.head()\n"
   ]
  },
  {
   "cell_type": "code",
   "execution_count": 3,
   "metadata": {},
   "outputs": [],
   "source": [
    "from sklearn.model_selection import train_test_split\n",
    "from sklearn.feature_extraction.text import CountVectorizer, TfidfTransformer,TfidfVectorizer\n",
    "from sklearn.ensemble import RandomForestClassifier\n",
    "from sklearn.metrics import accuracy_score\n",
    "x_train, x_test, y_train, y_test =train_test_split(df[\"new_tweet\"], df[\"label\"], test_size = 0.2, random_state = 42)\n"
   ]
  },
  {
   "cell_type": "code",
   "execution_count": 4,
   "metadata": {},
   "outputs": [],
   "source": [
    "import numpy as np\n",
    "split=np.array_split(x_train, 10)\n",
    "label=np.array_split(y_train,10)"
   ]
  },
  {
   "cell_type": "code",
   "execution_count": 5,
   "metadata": {},
   "outputs": [],
   "source": [
    "#Queriying\n",
    "from scipy.stats import entropy\n",
    "import numpy as np\n",
    "def multi_argmax(values, n_instances= 100):\n",
    "    max_idx = np.argpartition(-values, n_instances-1, axis=0)[:n_instances]\n",
    "    return max_idx\n",
    "def entropy_sampling( X,n_instances= 100):\n",
    "    ent=np.transpose(entropy(np.transpose(X)))\n",
    "    return multi_argmax(ent, n_instances=n_instances)\n"
   ]
  },
  {
   "cell_type": "code",
   "execution_count": 6,
   "metadata": {},
   "outputs": [],
   "source": [
    "import scipy.sparse as sp\n",
    "import pandas as pd\n",
    "def add_data(x,y):\n",
    "    x=sp.vstack((x,y))\n",
    "    return x\n",
    "def add_label(x,y):\n",
    "    x=np.concatenate((x,y))\n",
    "    return x\n",
    "def fit_model(x,y):\n",
    "    model = RandomForestClassifier()\n",
    "    model.fit(x,y)\n",
    "    return model"
   ]
  },
  {
   "cell_type": "code",
   "execution_count": 7,
   "metadata": {},
   "outputs": [
    {
     "name": "stdout",
     "output_type": "stream",
     "text": [
      "94.10292507430002\n"
     ]
    }
   ],
   "source": [
    "count_vect = CountVectorizer(stop_words='english')\n",
    "transformer = TfidfTransformer(norm='l2',sublinear_tf=True)\n",
    "x_train_counts = count_vect.fit_transform(split[0].apply(lambda x: ' '.join(x)))\n",
    "x_train_tfidf = transformer.fit_transform(x_train_counts)\n",
    "label[0]=label[0].to_numpy()\n",
    "model=fit_model(x_train_tfidf,label[0])\n",
    "x_test_counts = count_vect.transform(x_test.apply(lambda x: ' '.join(x)))\n",
    "x_test_tfidf = transformer.transform(x_test_counts)\n",
    "predictions = model.predict(x_test_tfidf)\n",
    "print(accuracy_score(y_test,predictions)*100)\n"
   ]
  },
  {
   "cell_type": "code",
   "execution_count": 8,
   "metadata": {},
   "outputs": [
    {
     "name": "stdout",
     "output_type": "stream",
     "text": [
      "95.38557797591115\n"
     ]
    }
   ],
   "source": [
    "for i in range(1,10):\n",
    "    x_counts = count_vect.transform(split[i].apply(lambda x: ' '.join(x)))\n",
    "    x_tfidf = transformer.transform(x_counts)\n",
    "    sample=model.predict_proba(x_tfidf)\n",
    "    tweet_id=entropy_sampling(sample)\n",
    "    #label_tweet=retrieve_rows(x_tfidf,tweet_id)\n",
    "    y=[]\n",
    "    #Teaching \n",
    "    for k in tweet_id:\n",
    "      j=label[i].iloc[k]\n",
    "      lb=j.item()\n",
    "      y.append(lb)\n",
    "    x_train_tfidf=add_data(x_train_tfidf,x_tfidf[tweet_id])\n",
    "    label[0]=add_label(label[0],y)\n",
    "    model=fit_model(x_train_tfidf,label[0])\n",
    "    \n",
    "x_test_counts = count_vect.transform(x_test.apply(lambda x: ' '.join(x)))\n",
    "x_test_tfidf = transformer.transform(x_test_counts)\n",
    "predictions = model.predict(x_test_tfidf)\n",
    "print(accuracy_score(y_test,predictions)*100)"
   ]
  },
  {
   "cell_type": "code",
   "execution_count": 9,
   "metadata": {},
   "outputs": [
    {
     "name": "stdout",
     "output_type": "stream",
     "text": [
      "Training data counts: 25569\n",
      "Testing data counts: 6393\n",
      "96.13639918661036\n"
     ]
    }
   ],
   "source": [
    "#Not using Active learning\n",
    "\n",
    "from sklearn.model_selection import train_test_split\n",
    "from sklearn.feature_extraction.text import CountVectorizer, TfidfTransformer,TfidfVectorizer\n",
    "from sklearn.ensemble import RandomForestClassifier\n",
    "from sklearn.metrics import accuracy_score\n",
    "x_train, x_test, y_train, y_test =train_test_split(df[\"new_tweet\"], df[\"label\"], test_size = 0.2, random_state = 42)\n",
    "print(\"Training data counts:\",len(x_train))\n",
    "print(\"Testing data counts:\",len(x_test))\n",
    "count_vect = CountVectorizer(stop_words='english')\n",
    "transformer = TfidfTransformer(norm='l2',sublinear_tf=True)\n",
    "x_train_counts = count_vect.fit_transform(x_train.apply(lambda x: ' '.join(x)))\n",
    "x_train_tfidf = transformer.fit_transform(x_train_counts)\n",
    "x_test_counts = count_vect.transform(x_test.apply(lambda x: ' '.join(x)))\n",
    "x_test_tfidf = transformer.transform(x_test_counts)\n",
    "model = RandomForestClassifier(n_estimators=200)\n",
    "model.fit(x_train_tfidf,y_train)\n",
    "predictions = model.predict(x_test_tfidf)\n",
    "print(accuracy_score(y_test,predictions)*100)"
   ]
  },
  {
   "cell_type": "code",
   "execution_count": null,
   "metadata": {},
   "outputs": [],
   "source": []
  }
 ],
 "metadata": {
  "interpreter": {
   "hash": "b3ba2566441a7c06988d0923437866b63cedc61552a5af99d1f4fb67d367b25f"
  },
  "kernelspec": {
   "display_name": "Python 3.8.8 ('base')",
   "language": "python",
   "name": "python3"
  },
  "language_info": {
   "codemirror_mode": {
    "name": "ipython",
    "version": 3
   },
   "file_extension": ".py",
   "mimetype": "text/x-python",
   "name": "python",
   "nbconvert_exporter": "python",
   "pygments_lexer": "ipython3",
   "version": "3.8.8"
  },
  "orig_nbformat": 4
 },
 "nbformat": 4,
 "nbformat_minor": 2
}
